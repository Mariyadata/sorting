{
 "cells": [
  {
   "cell_type": "code",
   "execution_count": 1,
   "id": "0d8441c5-5190-4b07-a185-8cddea050467",
   "metadata": {},
   "outputs": [
    {
     "name": "stdout",
     "output_type": "stream",
     "text": [
      "Element appearing maximum number of times: 3\n",
      "Maximum count: 4\n"
     ]
    }
   ],
   "source": [
    "def find_max_occurrence(arr):\n",
    "    \n",
    "    element_counts = {}\n",
    "\n",
    "    \n",
    "    for num in arr:\n",
    "        if num in element_counts:\n",
    "            element_counts[num] += 1\n",
    "        else:\n",
    "            element_counts[num] = 1\n",
    "\n",
    "    \n",
    "    max_element = max(element_counts, key=element_counts.get)\n",
    "    max_count = element_counts[max_element]\n",
    "\n",
    "    return max_element, max_count\n",
    "\n",
    "\n",
    "arr = [1, 2, 3, 4, 2, 2, 3, 3, 3]\n",
    "max_element, max_count = find_max_occurrence(arr)\n",
    "print(\"Element appearing maximum number of times:\", max_element)\n",
    "print(\"Maximum count:\", max_count)\n"
   ]
  },
  {
   "cell_type": "code",
   "execution_count": 2,
   "id": "ee539a74-a177-491f-9bf4-113c18dfa591",
   "metadata": {},
   "outputs": [
    {
     "name": "stdout",
     "output_type": "stream",
     "text": [
      "The missing number is: 5\n"
     ]
    }
   ],
   "source": [
    "def find_missing_number(nums):\n",
    "   \n",
    "    n = len(nums) + 1\n",
    "    expected_sum = n * (n + 1) // 2\n",
    "    \n",
    "    \n",
    "    actual_sum = sum(nums)\n",
    "    \n",
    "    \n",
    "    missing_number = expected_sum - actual_sum\n",
    "    \n",
    "    return missing_number\n",
    "\n",
    "\n",
    "nums = [1, 2, 4, 6, 3, 7, 8]\n",
    "missing_num = find_missing_number(nums)\n",
    "print(\"The missing number is:\", missing_num)\n"
   ]
  },
  {
   "cell_type": "code",
   "execution_count": 3,
   "id": "86526261-e726-4b3d-8e57-8edc45b2c2bb",
   "metadata": {},
   "outputs": [
    {
     "name": "stdout",
     "output_type": "stream",
     "text": [
      "The number occurring odd number of times is: 3\n"
     ]
    }
   ],
   "source": [
    "def find_odd_occurrence(nums):\n",
    "    result = 0\n",
    "    for num in nums:\n",
    "        result ^= num\n",
    "    return result\n",
    "\n",
    "\n",
    "nums = [1, 2, 3, 2, 3, 1, 3]\n",
    "odd_occurrence = find_odd_occurrence(nums)\n",
    "print(\"The number occurring odd number of times is:\", odd_occurrence)\n"
   ]
  },
  {
   "cell_type": "code",
   "execution_count": 4,
   "id": "bdb199cb-ca36-4d60-bfac-3cef1947ae88",
   "metadata": {},
   "outputs": [
    {
     "name": "stdout",
     "output_type": "stream",
     "text": [
      "The two elements with sum 10 are: 6 and 4\n"
     ]
    }
   ],
   "source": [
    "def find_two_elements_with_sum(nums, K):\n",
    "    seen = set()\n",
    "    for num in nums:\n",
    "        complement = K - num\n",
    "        if complement in seen:\n",
    "            return num, complement\n",
    "        seen.add(num)\n",
    "    return None\n",
    "\n",
    "\n",
    "nums = [1, 4, 2, 3, 5, 6, 7]\n",
    "K = 10\n",
    "result = find_two_elements_with_sum(nums, K)\n",
    "if result:\n",
    "    num1, num2 = result\n",
    "    print(f\"The two elements with sum {K} are: {num1} and {num2}\")\n",
    "else:\n",
    "    print(\"No such pair exists.\")\n"
   ]
  },
  {
   "cell_type": "code",
   "execution_count": 5,
   "id": "1aa515c7-fca1-4280-94e9-98ce0cce2f66",
   "metadata": {},
   "outputs": [
    {
     "name": "stdout",
     "output_type": "stream",
     "text": [
      "The two numbers with sum closest to zero are: (-80, 85)\n"
     ]
    }
   ],
   "source": [
    "def closest_to_zero(nums):\n",
    "    nums.sort()  \n",
    "    closest_sum = float('inf')  \n",
    "    pair = None \n",
    "\n",
    "    left = 0  \n",
    "    right = len(nums) - 1  \n",
    "\n",
    "    while left < right:\n",
    "        current_sum = nums[left] + nums[right]\n",
    "\n",
    "        if abs(current_sum) < abs(closest_sum):\n",
    "            closest_sum = current_sum\n",
    "            pair = (nums[left], nums[right])\n",
    "\n",
    "        if current_sum < 0:\n",
    "            left += 1\n",
    "        elif current_sum > 0:\n",
    "            right -= 1\n",
    "        else:  \n",
    "            return pair\n",
    "\n",
    "    return pair\n",
    "\n",
    "nums = [1, 60, -10, 70, -80, 85]\n",
    "result = closest_to_zero(nums)\n",
    "print(\"The two numbers with sum closest to zero are:\", result)\n"
   ]
  },
  {
   "cell_type": "code",
   "execution_count": 6,
   "id": "ffb562de-701a-4b04-918a-a2dc27c47e2b",
   "metadata": {},
   "outputs": [
    {
     "name": "stdout",
     "output_type": "stream",
     "text": [
      "The Pythagorean triplet is: (3, 4, 5)\n"
     ]
    }
   ],
   "source": [
    "def find_pythagorean_triplet(nums):\n",
    "\n",
    "    squared_nums = [num*num for num in nums]\n",
    "    squared_nums.sort()  \n",
    "    \n",
    "    for k in range(len(squared_nums) - 1, 1, -1):\n",
    "        left = 0\n",
    "        right = k - 1\n",
    "        \n",
    "        while left < right:\n",
    "            sum_of_squares = squared_nums[left] + squared_nums[right]\n",
    "            if sum_of_squares == squared_nums[k]:\n",
    "                return (int(squared_nums[left] ** 0.5), int(squared_nums[right] ** 0.5), int(squared_nums[k] ** 0.5))\n",
    "            elif sum_of_squares < squared_nums[k]:\n",
    "                left += 1\n",
    "            else:\n",
    "                right -= 1\n",
    "    \n",
    "    return None\n",
    "\n",
    "\n",
    "nums = [3, 1, 4, 6, 5]\n",
    "result = find_pythagorean_triplet(nums)\n",
    "if result:\n",
    "    print(\"The Pythagorean triplet is:\", result)\n",
    "else:\n",
    "    print(\"No such Pythagorean triplet exists.\")\n"
   ]
  },
  {
   "cell_type": "code",
   "execution_count": 7,
   "id": "11a5f241-323f-440c-b98d-f352d6ea01e5",
   "metadata": {},
   "outputs": [
    {
     "name": "stdout",
     "output_type": "stream",
     "text": [
      "Row with maximum number of 0's: 2\n"
     ]
    }
   ],
   "source": [
    "def find_max_zeros_row(matrix):\n",
    "    max_zero_count = 0\n",
    "    max_zero_row = -1\n",
    "    \n",
    "    for i, row in enumerate(matrix):\n",
    "       \n",
    "        left, right = 0, len(row) - 1\n",
    "        while left <= right:\n",
    "            mid = left + (right - left) // 2\n",
    "            if row[mid] == 0:\n",
    "                right = mid - 1\n",
    "            else:\n",
    "                left = mid + 1\n",
    "        \n",
    "     \n",
    "        zero_count = len(row) - left\n",
    "        \n",
    "    \n",
    "        if zero_count > max_zero_count:\n",
    "            max_zero_count = zero_count\n",
    "            max_zero_row = i\n",
    "    \n",
    "    return max_zero_row\n",
    "\n",
    "\n",
    "matrix = [\n",
    "    [1, 1, 1, 0, 0],\n",
    "    [1, 1, 0, 0, 0],\n",
    "    [1, 0, 0, 0, 0],\n",
    "    [1, 1, 1, 1, 0],\n",
    "    [1, 1, 1, 0, 0]\n",
    "]\n",
    "\n",
    "max_zeros_row = find_max_zeros_row(matrix)\n",
    "if max_zeros_row != -1:\n",
    "    print(\"Row with maximum number of 0's:\", max_zeros_row)\n",
    "else:\n",
    "    print(\"Matrix is empty.\")\n"
   ]
  },
  {
   "cell_type": "code",
   "execution_count": 8,
   "id": "8c8d5f31-7fe1-4d05-ae05-ab952f683710",
   "metadata": {},
   "outputs": [
    {
     "name": "stdout",
     "output_type": "stream",
     "text": [
      "Sorted array: [0, 1, 1, 0, 1, 1, 1, 0, 0, 0, 2, 2]\n"
     ]
    }
   ],
   "source": [
    "def sort_colors(nums):\n",
    "    low = 0\n",
    "    high = len(nums) - 1\n",
    "    \n",
    "    while low <= high:\n",
    "        if nums[low] == 0:\n",
    "            low += 1\n",
    "        elif nums[low] == 1:\n",
    "            low += 1\n",
    "        else:\n",
    "            nums[low], nums[high] = nums[high], nums[low]\n",
    "            high -= 1\n",
    "    \n",
    "    return nums\n",
    "\n",
    "\n",
    "nums = [0, 1, 1, 0, 1, 2, 1, 2, 0, 0, 0, 1]\n",
    "sorted_nums = sort_colors(nums)\n",
    "print(\"Sorted array:\", sorted_nums)\n"
   ]
  },
  {
   "cell_type": "code",
   "execution_count": null,
   "id": "80b58dc6-73f8-4884-9ed1-b4e2423d3a80",
   "metadata": {},
   "outputs": [],
   "source": []
  }
 ],
 "metadata": {
  "kernelspec": {
   "display_name": "Python 3 (ipykernel)",
   "language": "python",
   "name": "python3"
  },
  "language_info": {
   "codemirror_mode": {
    "name": "ipython",
    "version": 3
   },
   "file_extension": ".py",
   "mimetype": "text/x-python",
   "name": "python",
   "nbconvert_exporter": "python",
   "pygments_lexer": "ipython3",
   "version": "3.10.8"
  }
 },
 "nbformat": 4,
 "nbformat_minor": 5
}
